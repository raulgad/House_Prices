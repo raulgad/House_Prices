{
 "cells": [
  {
   "cell_type": "markdown",
   "id": "d63a4aa4-b577-447a-9fe7-ce26d437c171",
   "metadata": {},
   "source": [
    "## Upload dataset"
   ]
  },
  {
   "cell_type": "code",
   "execution_count": 2,
   "id": "6116a701-6062-4884-8bf2-5601aea2cf43",
   "metadata": {},
   "outputs": [],
   "source": [
    "# !kaggle competitions download -c house-prices-advanced-regression-techniques"
   ]
  },
  {
   "cell_type": "markdown",
   "id": "740d5afb-3f0e-4ea5-a387-1d383c12b9c2",
   "metadata": {},
   "source": [
    "## Import libraries"
   ]
  },
  {
   "cell_type": "code",
   "execution_count": 31,
   "id": "a557fbba-31a4-45ea-bb1b-32065a1e39e1",
   "metadata": {},
   "outputs": [],
   "source": [
    "import pandas as pd\n",
    "import matplotlib.pyplot as plt\n",
    "import numpy as np\n",
    "import sklearn\n",
    "import seaborn as sns\n",
    "plt.rcParams['figure.dpi'] = 100"
   ]
  },
  {
   "cell_type": "markdown",
   "id": "9a0014bf-fd2b-4e6e-89ae-36f8d58e5277",
   "metadata": {},
   "source": [
    "## Init train dataframe"
   ]
  },
  {
   "cell_type": "code",
   "execution_count": 32,
   "id": "0115e70f-085b-428c-b0a3-c1fcebff3e7c",
   "metadata": {},
   "outputs": [],
   "source": [
    "data_train = pd.read_csv('house-prices-advanced-regression-techniques/train.csv')\n",
    "train = pd.DataFrame(data_train)\n",
    "# train.info()"
   ]
  },
  {
   "cell_type": "markdown",
   "id": "1d6c6031-fbbe-4d00-87be-47e72ddbb497",
   "metadata": {
    "tags": []
   },
   "source": [
    "## Init test dataframe"
   ]
  },
  {
   "cell_type": "code",
   "execution_count": 33,
   "id": "dc1da52a-9319-490a-98a7-93ac5449cadc",
   "metadata": {
    "tags": []
   },
   "outputs": [],
   "source": [
    "data_test = pd.read_csv('house-prices-advanced-regression-techniques/test.csv')\n",
    "test = pd.DataFrame(data_test)\n",
    "# test.info()"
   ]
  },
  {
   "cell_type": "code",
   "execution_count": 34,
   "id": "c3a979e9-a99a-4f4d-8398-2aa5efc29f35",
   "metadata": {},
   "outputs": [
    {
     "name": "stdout",
     "output_type": "stream",
     "text": [
      "train shape: (1460, 81)\n",
      "test shape: (1459, 80)\n"
     ]
    }
   ],
   "source": [
    "print(\"train shape:\", train.shape)\n",
    "print(\"test shape:\", test.shape)"
   ]
  },
  {
   "cell_type": "markdown",
   "id": "f8c09227-bcb3-4dc9-82ee-a86c6d7a4867",
   "metadata": {},
   "source": [
    "## Init predicted SalePrice values"
   ]
  },
  {
   "cell_type": "code",
   "execution_count": 35,
   "id": "d8c5a41f-3175-4f8c-8dbd-2dbf89e2266c",
   "metadata": {
    "tags": []
   },
   "outputs": [],
   "source": [
    "sales_predicted_test = pd.read_csv('submission_1.csv')\n",
    "sales_predicted_test = pd.DataFrame(sales_predicted_test)"
   ]
  },
  {
   "cell_type": "markdown",
   "id": "a4c42e91-c893-4924-869d-3a7dbdbf7433",
   "metadata": {},
   "source": [
    "## Merge train and test dataframes to full"
   ]
  },
  {
   "cell_type": "code",
   "execution_count": 36,
   "id": "11f6096e-dc18-47ea-bdbe-f567b3e3376f",
   "metadata": {
    "tags": []
   },
   "outputs": [],
   "source": [
    "full = pd.concat([train, test])"
   ]
  },
  {
   "cell_type": "markdown",
   "id": "96f0e23e-9bdd-412f-872d-11ab9cd3530e",
   "metadata": {},
   "source": [
    "## Change empty SalePrice values to predicted"
   ]
  },
  {
   "cell_type": "code",
   "execution_count": null,
   "id": "c16c6099-3208-4244-9ebc-47c9daa99156",
   "metadata": {
    "tags": []
   },
   "outputs": [],
   "source": [
    "full['SalePrice'].iloc[1460:] = sales_predicted_test['SalePrice']"
   ]
  },
  {
   "cell_type": "markdown",
   "id": "41276c47-aa9e-4d7e-991e-0e58874a472e",
   "metadata": {},
   "source": [
    "## Delete columns that dont need"
   ]
  },
  {
   "cell_type": "code",
   "execution_count": 38,
   "id": "a8629b83-3d7a-481a-a658-bc36491a46e8",
   "metadata": {},
   "outputs": [],
   "source": [
    "full.drop(['Id'],axis =1,inplace=True)\n",
    "full.drop(['Utilities'],axis =1,inplace=True)\n",
    "full.drop(['BedroomAbvGr'],axis =1,inplace=True)\n",
    "full.drop(['KitchenAbvGr'],axis =1,inplace=True)"
   ]
  },
  {
   "cell_type": "markdown",
   "id": "f0e8597d-fd71-4fee-872e-b395d4ad032e",
   "metadata": {},
   "source": [
    "## Get all categorical features"
   ]
  },
  {
   "cell_type": "code",
   "execution_count": 39,
   "id": "368b3ea4-1975-4a3d-a41d-870872ee9362",
   "metadata": {},
   "outputs": [],
   "source": [
    "cat_features = full.select_dtypes(include=['object']).columns.tolist()"
   ]
  },
  {
   "cell_type": "markdown",
   "id": "5b4a4e87-15ec-4315-bfbf-0f1e11e394f7",
   "metadata": {},
   "source": [
    "## Append categorial features that have numerical values"
   ]
  },
  {
   "cell_type": "code",
   "execution_count": 40,
   "id": "5631e5b3-8f1c-42ce-be1d-24947debddb6",
   "metadata": {
    "tags": []
   },
   "outputs": [],
   "source": [
    "cat_features.append('MSSubClass')\n",
    "cat_features.append('OverallQual')\n",
    "cat_features.append('OverallCond')\n",
    "cat_features.append('YearRemodAdd')\n",
    "cat_features.append('GarageYrBlt')\n",
    "cat_features.append('GarageCars')\n",
    "cat_features.append('MoSold')\n",
    "cat_features.append('YrSold')\n",
    "# cat_features"
   ]
  },
  {
   "cell_type": "markdown",
   "id": "9fa23fd4-3905-43bd-b258-23433576eb14",
   "metadata": {},
   "source": [
    "## Get all numeric features"
   ]
  },
  {
   "cell_type": "code",
   "execution_count": 41,
   "id": "50ba2ae5-1085-4a02-9e27-520409b10529",
   "metadata": {},
   "outputs": [],
   "source": [
    "num_features = full.select_dtypes(exclude=['object']).columns.tolist()"
   ]
  },
  {
   "cell_type": "markdown",
   "id": "e58c3709-38c4-4bac-b99f-94c20745980e",
   "metadata": {},
   "source": [
    "## Remove categorial features that have numerical values"
   ]
  },
  {
   "cell_type": "code",
   "execution_count": 42,
   "id": "a7e17c28-6d8b-4180-98be-a1b61848d0b7",
   "metadata": {
    "tags": []
   },
   "outputs": [],
   "source": [
    "num_features.remove('MSSubClass')\n",
    "num_features.remove('OverallQual')\n",
    "num_features.remove('OverallCond')\n",
    "num_features.remove('YearRemodAdd')\n",
    "num_features.remove('GarageYrBlt')\n",
    "num_features.remove('GarageCars')\n",
    "num_features.remove('MoSold')\n",
    "num_features.remove('YrSold')\n",
    "num_features.remove('YearBuilt')\n",
    "# num_features"
   ]
  },
  {
   "cell_type": "markdown",
   "id": "565dd12f-831d-4d1a-bc62-b04d7fcf3273",
   "metadata": {},
   "source": [
    "## Convert YearBuilt to Years (how old house is)"
   ]
  },
  {
   "cell_type": "code",
   "execution_count": 43,
   "id": "bf175967-1f64-40e7-87d8-d331f01bb611",
   "metadata": {},
   "outputs": [],
   "source": [
    "full.rename(columns={\"YearBuilt\": \"Years\"}, inplace=True)\n",
    "full['Years'] = 2017 - full['Years']\n",
    "\n",
    "num_features.append('Years')"
   ]
  },
  {
   "cell_type": "code",
   "execution_count": 44,
   "id": "db824447-8ba5-42e4-95b6-f86bf2fd155c",
   "metadata": {},
   "outputs": [
    {
     "data": {
      "text/plain": [
       "13963"
      ]
     },
     "execution_count": 44,
     "metadata": {},
     "output_type": "execute_result"
    }
   ],
   "source": [
    "full.isnull().values.sum()"
   ]
  },
  {
   "cell_type": "markdown",
   "id": "6bdf7c21-50ac-48a3-bd84-e9eb5203f0c4",
   "metadata": {},
   "source": [
    "## Replace all nan elements to median in numerical features"
   ]
  },
  {
   "cell_type": "code",
   "execution_count": 45,
   "id": "0320638b-de70-4616-a664-1ecf2c97c95a",
   "metadata": {},
   "outputs": [
    {
     "name": "stdout",
     "output_type": "stream",
     "text": [
      "Remaining NAs for numerical features in train : 0\n"
     ]
    }
   ],
   "source": [
    "full[num_features] = full[num_features].fillna(full[num_features].median())\n",
    "\n",
    "print(\"Remaining NAs for numerical features in train : \" + str(full[num_features].isnull().values.sum()))"
   ]
  },
  {
   "cell_type": "code",
   "execution_count": 46,
   "id": "4cf059b2-fae2-4349-a48d-8b4867fb50ee",
   "metadata": {
    "tags": []
   },
   "outputs": [
    {
     "data": {
      "text/plain": [
       "13445"
      ]
     },
     "execution_count": 46,
     "metadata": {},
     "output_type": "execute_result"
    }
   ],
   "source": [
    "full.isnull().values.sum()"
   ]
  },
  {
   "cell_type": "markdown",
   "id": "f8a0e2a9-19b6-4f4a-abfb-d31ccac30387",
   "metadata": {},
   "source": [
    "## Get all features with non normal distributions in numerical features"
   ]
  },
  {
   "cell_type": "markdown",
   "id": "ca40ee09-82ae-4f37-afb7-5ed10cc54075",
   "metadata": {},
   "source": [
    "### Check non normal numeric values by Shapiro-Wilk test."
   ]
  },
  {
   "cell_type": "code",
   "execution_count": 47,
   "id": "52a6209f-a08d-4f5f-86d2-3123d47a22af",
   "metadata": {},
   "outputs": [],
   "source": [
    "from scipy.stats import skew s\n",
    "import scipy.stats as stats\n",
    "from scipy.stats import shapiro\n",
    "\n",
    "skewness = full[num_features].apply(lambda x: stats.shapiro(x.fillna(0))[1] < 0.01)\n",
    "skewness.sort_values(ascending=False)\n",
    "\n",
    "skewness = skewness[abs(skewness)>0.5]\n",
    "\n",
    "skew_features = full[skewness.index]\n",
    "# skew_features.columns\n",
    "# skew_features"
   ]
  },
  {
   "cell_type": "markdown",
   "id": "2bcf12c4-a999-4dd5-af01-47e8deb6ce43",
   "metadata": {},
   "source": [
    "## Treat skewness features with log transformation"
   ]
  },
  {
   "cell_type": "code",
   "execution_count": 48,
   "id": "c8eaa7a6-30ac-4634-a914-f767447f5c11",
   "metadata": {},
   "outputs": [],
   "source": [
    "full[skew_features.columns] = np.log1p(full[skew_features.columns])\n",
    "# full[skew_features.columns]"
   ]
  },
  {
   "cell_type": "markdown",
   "id": "14d46d82-01e9-4702-a609-23e8ff328b35",
   "metadata": {},
   "source": [
    "## Replace all NaN elements in categorial features"
   ]
  },
  {
   "cell_type": "code",
   "execution_count": 49,
   "id": "c51d7331-a9be-4cbb-9c68-0c9752885fce",
   "metadata": {},
   "outputs": [],
   "source": [
    "full[cat_features] = full[cat_features].fillna('No')"
   ]
  },
  {
   "cell_type": "markdown",
   "id": "4bfabf95-f420-4c80-a5e5-2c3a0ecc969f",
   "metadata": {},
   "source": [
    "## Apply target encoding for categorical features"
   ]
  },
  {
   "cell_type": "code",
   "execution_count": 50,
   "id": "6bcc786a-fbaf-42b5-9e99-3a767b3aee9c",
   "metadata": {},
   "outputs": [],
   "source": [
    "from category_encoders import TargetEncoder\n",
    "\n",
    "for cat in cat_features:\n",
    "    encoder = TargetEncoder()\n",
    "    full[cat] = encoder.fit_transform(full[cat], full['SalePrice'])"
   ]
  },
  {
   "cell_type": "markdown",
   "id": "4a1a23b8-300d-47ad-9981-b0f77a4efab8",
   "metadata": {},
   "source": [
    "## Import models"
   ]
  },
  {
   "cell_type": "code",
   "execution_count": 60,
   "id": "4f2490ba-1a23-434b-9f57-70d91467c789",
   "metadata": {},
   "outputs": [],
   "source": [
    "from sklearn.model_selection import train_test_split\n",
    "from sklearn.metrics import mean_squared_error\n",
    "from sklearn.pipeline import make_pipeline\n",
    "from sklearn.model_selection import KFold\n",
    "from sklearn.preprocessing import StandardScaler, RobustScaler\n",
    "from sklearn.linear_model import LinearRegression, RidgeCV, LassoCV, ElasticNetCV\n",
    "from sklearn.neighbors import KNeighborsRegressor, RadiusNeighborsRegressor \n",
    "from sklearn.ensemble import GradientBoostingRegressor, RandomForestRegressor\n",
    "from sklearn.svm import SVR\n",
    "from mlxtend.regressor import StackingCVRegressor"
   ]
  },
  {
   "cell_type": "markdown",
   "id": "ff748baa-94d3-4f37-8152-b1a009b43d10",
   "metadata": {},
   "source": [
    "## Use full dataframe for training model. And get test df for get predictions to upload to kaggle."
   ]
  },
  {
   "cell_type": "code",
   "execution_count": 52,
   "id": "e9acb84f-db85-4042-bee8-2658fed29ee6",
   "metadata": {},
   "outputs": [],
   "source": [
    "train = full\n",
    "test = full.iloc[1460:]"
   ]
  },
  {
   "cell_type": "markdown",
   "id": "86a4faf6-1fd4-4ce0-9a07-deb211c453d8",
   "metadata": {},
   "source": [
    "## Remove SalePrice from train and test df's"
   ]
  },
  {
   "cell_type": "code",
   "execution_count": 53,
   "id": "257071a6-6b65-4f9d-8c09-33f3d321e4d0",
   "metadata": {},
   "outputs": [],
   "source": [
    "train = train.drop(['SalePrice'], axis=1)\n",
    "test = test.drop(['SalePrice'], axis=1)"
   ]
  },
  {
   "cell_type": "markdown",
   "id": "3f638142-7fe2-484c-9e08-77c41b276531",
   "metadata": {},
   "source": [
    "## Get target values and set it to y"
   ]
  },
  {
   "cell_type": "code",
   "execution_count": 54,
   "id": "39683a06-8fbb-45ac-9fda-6ef85dc07833",
   "metadata": {},
   "outputs": [],
   "source": [
    "y = full['SalePrice']"
   ]
  },
  {
   "cell_type": "markdown",
   "id": "4bfd4afe-db3a-4625-ab13-91a242a19d00",
   "metadata": {},
   "source": [
    "## Split train to X_train and X_test for check models errors"
   ]
  },
  {
   "cell_type": "code",
   "execution_count": 55,
   "id": "1c204d58-01e3-4ac5-9167-26be59a0edfe",
   "metadata": {
    "tags": []
   },
   "outputs": [
    {
     "data": {
      "text/plain": [
       "((2043, 76), (876, 76), (2043,), (876,))"
      ]
     },
     "execution_count": 55,
     "metadata": {},
     "output_type": "execute_result"
    }
   ],
   "source": [
    "X_train, X_test, y_train, y_test = train_test_split(train, y, test_size = 0.3, random_state= 42)\n",
    "\n",
    "X_train.shape, X_test.shape, y_train.shape, y_test.shape"
   ]
  },
  {
   "cell_type": "markdown",
   "id": "9ffa0a24-653a-4def-b2df-1a1f8476fa5a",
   "metadata": {},
   "source": [
    "## Init models and its parameters"
   ]
  },
  {
   "cell_type": "code",
   "execution_count": 56,
   "id": "dc0b37d3-6b03-405c-bd16-300372e582ff",
   "metadata": {},
   "outputs": [],
   "source": [
    "# Parameters\n",
    "alphas_alt = [0.5742104667328154]\n",
    "alphas2 = [1.879091248501181e-05]\n",
    "e_alphas = [0.00019646888384623228]\n",
    "e_l1ratio = [0.00010169670649057203]\n"
   ]
  },
  {
   "cell_type": "code",
   "execution_count": 61,
   "id": "1b2ff0e6-73a0-4e11-b45c-e0555c7b8ad0",
   "metadata": {},
   "outputs": [],
   "source": [
    "# Models\n",
    "\n",
    "kfolds = KFold(n_splits=10, shuffle=True, random_state=42)\n",
    "\n",
    "ridge = make_pipeline(RobustScaler(), RidgeCV(alphas=alphas_alt, cv=kfolds))\n",
    "lasso = make_pipeline(RobustScaler(), LassoCV(max_iter=1e7, alphas=alphas2, random_state=42, cv=kfolds))\n",
    "elasticnet = make_pipeline(RobustScaler(), ElasticNetCV(max_iter=1e7, alphas=e_alphas, cv=kfolds, l1_ratio=e_l1ratio))                                \n",
    "svr = make_pipeline(RobustScaler(), SVR(C= 29.501807621257495, epsilon= 1.2121198952947593e-05, gamma=0.15570361630184554))\n",
    "\n",
    "gbr = GradientBoostingRegressor(n_estimators=3000, learning_rate=0.05, max_depth=4, max_features='sqrt', min_samples_leaf=15, min_samples_split=10, loss='huber', random_state =42)  \n",
    "\n",
    "stack_gen = StackingCVRegressor(regressors=(ridge, lasso, elasticnet, gbr),\n",
    "                                meta_regressor=gbr,\n",
    "                                use_features_in_secondary=True)"
   ]
  },
  {
   "cell_type": "markdown",
   "id": "59a6f585-fccc-4f74-9401-dec8dd4196c0",
   "metadata": {},
   "source": [
    "## Train models"
   ]
  },
  {
   "cell_type": "code",
   "execution_count": 62,
   "id": "95129adb-52ad-49cf-b225-caf0720fd252",
   "metadata": {
    "tags": []
   },
   "outputs": [],
   "source": [
    "stack_gen_model = stack_gen.fit(train, y)"
   ]
  },
  {
   "cell_type": "code",
   "execution_count": 63,
   "id": "08adce07-ca93-4f2d-a1b2-e789c10a435a",
   "metadata": {},
   "outputs": [],
   "source": [
    "elastic_model_full_data = elasticnet.fit(train, y)"
   ]
  },
  {
   "cell_type": "code",
   "execution_count": 64,
   "id": "94343692-8e84-4096-83e7-b02443f08f40",
   "metadata": {},
   "outputs": [],
   "source": [
    "lasso_model_full_data = lasso.fit(train, y)"
   ]
  },
  {
   "cell_type": "code",
   "execution_count": 65,
   "id": "df1b3d45-14a8-4d08-b721-96a5dd8196d3",
   "metadata": {},
   "outputs": [],
   "source": [
    "ridge_model_full_data = ridge.fit(train, y)"
   ]
  },
  {
   "cell_type": "code",
   "execution_count": 66,
   "id": "cc367129-3ff0-4690-bb14-573bcedf8421",
   "metadata": {},
   "outputs": [],
   "source": [
    "svr_model_full_data = svr.fit(train, y)"
   ]
  },
  {
   "cell_type": "code",
   "execution_count": 67,
   "id": "515749e3-b72b-40ba-b325-24055d06acc7",
   "metadata": {},
   "outputs": [],
   "source": [
    "gbr_model_full_data = gbr.fit(train, y)"
   ]
  },
  {
   "cell_type": "markdown",
   "id": "6a806734-16b1-44d8-96f1-ab3603e28a2b",
   "metadata": {},
   "source": [
    "## Test Optuna"
   ]
  },
  {
   "cell_type": "code",
   "execution_count": 848,
   "id": "50f97ca9-f7e0-4e98-8b09-4efc42b201f8",
   "metadata": {
    "tags": []
   },
   "outputs": [],
   "source": [
    "import optuna\n",
    "optuna.logging.set_verbosity(optuna.logging.WARNING)"
   ]
  },
  {
   "cell_type": "code",
   "execution_count": null,
   "id": "be2eda17-505a-41fd-9b67-8255990f87b5",
   "metadata": {
    "tags": []
   },
   "outputs": [
    {
     "data": {
      "application/vnd.jupyter.widget-view+json": {
       "model_id": "4e5b4571ffc4430ab7eb16ab5f39276b",
       "version_major": 2,
       "version_minor": 0
      },
      "text/plain": [
       "  0%|          | 0/500 [00:00<?, ?it/s]"
      ]
     },
     "metadata": {},
     "output_type": "display_data"
    }
   ],
   "source": [
    "p_from = 0.0001\n",
    "p_to = 1\n",
    "\n",
    "# с_from = 0.1\n",
    "# с_to = 40\n",
    "\n",
    "g_from = 1\n",
    "g_samples_split_from = 2\n",
    "g_to = 16\n",
    "\n",
    "\n",
    "# 1. Define an objective function to be maximized.\n",
    "def objective(trial):\n",
    "\n",
    "    # 2. Suggest values for the hyperparameters using a trial object.\n",
    "    \n",
    "#     alphas = trial.suggest_float('alpha', p_from, p_to, log=True)\n",
    "#     l1_ratio = trial.suggest_float('l1_ratio', p_from, p_to, log=True)\n",
    "    \n",
    "#     С = trial.suggest_float('С', с_from, с_to, log=True)\n",
    "#     epsilon = trial.suggest_float('epsilon', p_from, p_to, log=True)\n",
    "#     gamma = trial.suggest_float('gamma', p_from, p_to, log=True)\n",
    "    \n",
    "    learning_rate = trial.suggest_float('learning_rate', p_from, p_to, log=True)\n",
    "    max_depth = trial.suggest_int('max_depth', g_from, g_to, log=True)\n",
    "    min_samples_leaf = trial.suggest_int('min_samples_leaf', g_from, g_to, log=True)\n",
    "    min_samples_split = trial.suggest_int('min_samples_split', g_samples_split_from, g_to, log=True)\n",
    "    \n",
    "    # Models\n",
    "    \n",
    "#     regr_obj = make_pipeline(RobustScaler(), RidgeCV(alphas=alphas))\n",
    "#     regr_obj = make_pipeline(RobustScaler(), LassoCV(max_iter=1e7, alphas=[alphas], random_state=42))\n",
    "#     regr_obj = make_pipeline(RobustScaler(), ElasticNetCV(max_iter=1e7, alphas=[alphas], l1_ratio=[l1_ratio]))\n",
    "#     regr_obj = make_pipeline(RobustScaler(), SVR(C= С, epsilon= epsilon, gamma= gamma))\n",
    "    regr_obj = GradientBoostingRegressor(n_estimators=100, learning_rate=learning_rate, max_depth=max_depth, max_features='sqrt', min_samples_leaf=min_samples_leaf, min_samples_split=min_samples_split, loss='huber', random_state =42)  \n",
    "    \n",
    "    regr_obj_data = regr_obj.fit(train, y)\n",
    "    \n",
    "    pred = regr_obj_data.predict(X_test)\n",
    "    \n",
    "    error = mean_squared_error(pred, y_test)\n",
    "    \n",
    "    return error\n",
    "\n",
    "# 3. Create a study object and optimize the objective function.\n",
    "study = optuna.create_study(direction='minimize')\n",
    "study.optimize(objective, n_trials=500, show_progress_bar=True)\n",
    "study.best_params"
   ]
  },
  {
   "cell_type": "markdown",
   "id": "37619e05-20dc-4b9c-9dc8-cd304ba8f9b6",
   "metadata": {},
   "source": [
    "## Blend all models"
   ]
  },
  {
   "cell_type": "code",
   "execution_count": 99,
   "id": "ea69c514-19e4-41b0-ad4e-85468d5f94af",
   "metadata": {},
   "outputs": [
    {
     "name": "stdout",
     "output_type": "stream",
     "text": [
      "test MSE: 0.0028728486638769056\n"
     ]
    }
   ],
   "source": [
    "def blend_models_predict(X):\n",
    "    return ((0.1 * ridge_model_full_data.predict(X)) + \\\n",
    "            (0.6 * stack_gen_model.predict(X)) + \\\n",
    "            (0.1 * svr_model_full_data.predict(X)) + \\\n",
    "            (0.05 * lasso_model_full_data.predict(X)) + \\\n",
    "            (0.05 * elastic_model_full_data.predict(X)) + \\\n",
    "            (0.1 * gbr_model_full_data.predict(X)))\n",
    "\n",
    "pred = blend_models_predict(X_test)\n",
    "\n",
    "print(\"test MSE:\", mean_squared_error(pred, y_test))"
   ]
  },
  {
   "cell_type": "markdown",
   "id": "a557b5d3-2822-4707-8536-d022687461d8",
   "metadata": {},
   "source": [
    "## Get final predictions for test data"
   ]
  },
  {
   "cell_type": "code",
   "execution_count": 96,
   "id": "fb2a60a1-42e6-4768-9c94-d0ea203e056e",
   "metadata": {
    "tags": []
   },
   "outputs": [
    {
     "data": {
      "text/html": [
       "<div>\n",
       "<style scoped>\n",
       "    .dataframe tbody tr th:only-of-type {\n",
       "        vertical-align: middle;\n",
       "    }\n",
       "\n",
       "    .dataframe tbody tr th {\n",
       "        vertical-align: top;\n",
       "    }\n",
       "\n",
       "    .dataframe thead th {\n",
       "        text-align: right;\n",
       "    }\n",
       "</style>\n",
       "<table border=\"1\" class=\"dataframe\">\n",
       "  <thead>\n",
       "    <tr style=\"text-align: right;\">\n",
       "      <th></th>\n",
       "      <th>SalePrice</th>\n",
       "    </tr>\n",
       "    <tr>\n",
       "      <th>Id</th>\n",
       "      <th></th>\n",
       "    </tr>\n",
       "  </thead>\n",
       "  <tbody>\n",
       "    <tr>\n",
       "      <th>1461</th>\n",
       "      <td>115960.237478</td>\n",
       "    </tr>\n",
       "    <tr>\n",
       "      <th>1462</th>\n",
       "      <td>158798.516874</td>\n",
       "    </tr>\n",
       "    <tr>\n",
       "      <th>1463</th>\n",
       "      <td>181169.842729</td>\n",
       "    </tr>\n",
       "    <tr>\n",
       "      <th>1464</th>\n",
       "      <td>195348.653360</td>\n",
       "    </tr>\n",
       "    <tr>\n",
       "      <th>1465</th>\n",
       "      <td>196654.944730</td>\n",
       "    </tr>\n",
       "    <tr>\n",
       "      <th>...</th>\n",
       "      <td>...</td>\n",
       "    </tr>\n",
       "    <tr>\n",
       "      <th>2915</th>\n",
       "      <td>81598.693999</td>\n",
       "    </tr>\n",
       "    <tr>\n",
       "      <th>2916</th>\n",
       "      <td>83878.743125</td>\n",
       "    </tr>\n",
       "    <tr>\n",
       "      <th>2917</th>\n",
       "      <td>158834.310057</td>\n",
       "    </tr>\n",
       "    <tr>\n",
       "      <th>2918</th>\n",
       "      <td>118124.473509</td>\n",
       "    </tr>\n",
       "    <tr>\n",
       "      <th>2919</th>\n",
       "      <td>210817.453224</td>\n",
       "    </tr>\n",
       "  </tbody>\n",
       "</table>\n",
       "<p>1459 rows × 1 columns</p>\n",
       "</div>"
      ],
      "text/plain": [
       "          SalePrice\n",
       "Id                 \n",
       "1461  115960.237478\n",
       "1462  158798.516874\n",
       "1463  181169.842729\n",
       "1464  195348.653360\n",
       "1465  196654.944730\n",
       "...             ...\n",
       "2915   81598.693999\n",
       "2916   83878.743125\n",
       "2917  158834.310057\n",
       "2918  118124.473509\n",
       "2919  210817.453224\n",
       "\n",
       "[1459 rows x 1 columns]"
      ]
     },
     "execution_count": 96,
     "metadata": {},
     "output_type": "execute_result"
    }
   ],
   "source": [
    "final_test_pre = blend_models_predict(test)\n",
    "normal_prices_arr = np.expm1(final_test_pre)\n",
    "\n",
    "n_prices_df = pd.DataFrame(normal_prices_arr.tolist(), columns=['SalePrice'], index=range(1461, 2920)).rename_axis('Id')\n",
    "n_prices_df"
   ]
  },
  {
   "cell_type": "markdown",
   "id": "11da5592-1f3e-4ee4-8100-5b6568cae7ec",
   "metadata": {},
   "source": [
    "## Export the submission.scv"
   ]
  },
  {
   "cell_type": "code",
   "execution_count": 97,
   "id": "27234600-0948-49ed-a007-98a7fd9e66bb",
   "metadata": {},
   "outputs": [],
   "source": [
    "# n_prices_df.to_csv('submission_blend-rcv_gbr.csv')\n",
    "n_prices_df.to_csv('submission.csv')"
   ]
  },
  {
   "cell_type": "markdown",
   "id": "db50e591-6ecc-4802-952b-66cdc56d542d",
   "metadata": {},
   "source": [
    "## Upload to kaggle"
   ]
  },
  {
   "cell_type": "code",
   "execution_count": 98,
   "id": "387da0ec-c95b-4843-be2a-11d66bbc1343",
   "metadata": {},
   "outputs": [
    {
     "name": "stdout",
     "output_type": "stream",
     "text": [
      "100%|██████████████████████████████████████| 33.7k/33.7k [00:06<00:00, 5.49kB/s]\n",
      "Successfully submitted to House Prices - Advanced Regression Techniques"
     ]
    }
   ],
   "source": [
    "!kaggle competitions submit -c house-prices-advanced-regression-techniques -f submission.csv -m \"21.10.21 -- 1\""
   ]
  }
 ],
 "metadata": {
  "kernelspec": {
   "display_name": "Python 3 (ipykernel)",
   "language": "python",
   "name": "python3"
  },
  "language_info": {
   "codemirror_mode": {
    "name": "ipython",
    "version": 3
   },
   "file_extension": ".py",
   "mimetype": "text/x-python",
   "name": "python",
   "nbconvert_exporter": "python",
   "pygments_lexer": "ipython3",
   "version": "3.8.8"
  }
 },
 "nbformat": 4,
 "nbformat_minor": 5
}
